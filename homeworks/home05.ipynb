{
 "cells": [
  {
   "cell_type": "markdown",
   "id": "958d9b0c-edcb-4555-a2b4-86ceac588074",
   "metadata": {},
   "source": [
    "# Вебинар 5. Домашнее задание\n",
    "\n",
    "1) Прочитать статьи про BPR, WARP loss\n",
    "\n",
    "2) Сделать грид серч текущей модели\n",
    "\n",
    "\n",
    "LigthFM -> https://arxiv.org/pdf/1507.08439.pdf\n",
    "https://making.lyst.com/lightfm/docs/home.htm"
   ]
  },
  {
   "cell_type": "code",
   "execution_count": 1,
   "id": "655b9c13-e2c5-4972-bc0d-13ad4bdf5758",
   "metadata": {},
   "outputs": [
    {
     "name": "stderr",
     "output_type": "stream",
     "text": [
      "/Users/coraleks/Projects/GeekBrainsAI/RecSys/venv/lib/python3.8/site-packages/lightfm/_lightfm_fast.py:9: UserWarning: LightFM was compiled without OpenMP support. Only a single thread will be used.\n",
      "  warnings.warn(\n"
     ]
    }
   ],
   "source": [
    "import pandas as pd\n",
    "import numpy as np\n",
    "\n",
    "# Для работы с матрицами\n",
    "from scipy.sparse import csr_matrix, coo_matrix\n",
    "\n",
    "from lightfm import LightFM\n",
    "from lightfm.evaluation import precision_at_k, recall_at_k\n",
    "\n",
    "from utils2 import prefilter_items"
   ]
  },
  {
   "cell_type": "code",
   "execution_count": 2,
   "id": "215c4e81-a864-4a97-bf1a-5eceebf498e9",
   "metadata": {},
   "outputs": [
    {
     "data": {
      "text/plain": "   user_id    basket_id  day  item_id  quantity  sales_value  store_id  \\\n0     2375  26984851472    1  1004906         1         1.39       364   \n1     2375  26984851472    1  1033142         1         0.82       364   \n\n   retail_disc  trans_time  week_no  coupon_disc  coupon_match_disc  \n0         -0.6        1631        1          0.0                0.0  \n1          0.0        1631        1          0.0                0.0  ",
      "text/html": "<div>\n<style scoped>\n    .dataframe tbody tr th:only-of-type {\n        vertical-align: middle;\n    }\n\n    .dataframe tbody tr th {\n        vertical-align: top;\n    }\n\n    .dataframe thead th {\n        text-align: right;\n    }\n</style>\n<table border=\"1\" class=\"dataframe\">\n  <thead>\n    <tr style=\"text-align: right;\">\n      <th></th>\n      <th>user_id</th>\n      <th>basket_id</th>\n      <th>day</th>\n      <th>item_id</th>\n      <th>quantity</th>\n      <th>sales_value</th>\n      <th>store_id</th>\n      <th>retail_disc</th>\n      <th>trans_time</th>\n      <th>week_no</th>\n      <th>coupon_disc</th>\n      <th>coupon_match_disc</th>\n    </tr>\n  </thead>\n  <tbody>\n    <tr>\n      <th>0</th>\n      <td>2375</td>\n      <td>26984851472</td>\n      <td>1</td>\n      <td>1004906</td>\n      <td>1</td>\n      <td>1.39</td>\n      <td>364</td>\n      <td>-0.6</td>\n      <td>1631</td>\n      <td>1</td>\n      <td>0.0</td>\n      <td>0.0</td>\n    </tr>\n    <tr>\n      <th>1</th>\n      <td>2375</td>\n      <td>26984851472</td>\n      <td>1</td>\n      <td>1033142</td>\n      <td>1</td>\n      <td>0.82</td>\n      <td>364</td>\n      <td>0.0</td>\n      <td>1631</td>\n      <td>1</td>\n      <td>0.0</td>\n      <td>0.0</td>\n    </tr>\n  </tbody>\n</table>\n</div>"
     },
     "execution_count": 2,
     "metadata": {},
     "output_type": "execute_result"
    }
   ],
   "source": [
    "data = pd.read_csv('../data/retail_train.csv')\n",
    "\n",
    "item_features = pd.read_csv('../data/product.csv')\n",
    "user_features = pd.read_csv('../data/hh_demographic.csv')\n",
    "\n",
    "# column processing\n",
    "item_features.columns = [col.lower() for col in item_features.columns]\n",
    "user_features.columns = [col.lower() for col in user_features.columns]\n",
    "\n",
    "item_features.rename(columns={'product_id': 'item_id'}, inplace=True)\n",
    "user_features.rename(columns={'household_key': 'user_id'}, inplace=True)\n",
    "\n",
    "# train test split\n",
    "test_size_weeks = 3\n",
    "\n",
    "data_train = data[data['week_no'] < data['week_no'].max() - test_size_weeks]\n",
    "data_test = data[data['week_no'] >= data['week_no'].max() - test_size_weeks]\n",
    "\n",
    "data_train.head(2)"
   ]
  },
  {
   "cell_type": "code",
   "execution_count": 3,
   "id": "94127da6-e40c-49c0-b009-4e42d188d6fa",
   "metadata": {},
   "outputs": [
    {
     "data": {
      "text/plain": "  age_desc marital_status_code income_desc homeowner_desc      hh_comp_desc  \\\n0      65+                   A      35-49K      Homeowner  2 Adults No Kids   \n1    45-54                   A      50-74K      Homeowner  2 Adults No Kids   \n\n  household_size_desc kid_category_desc  user_id  \n0                   2      None/Unknown        1  \n1                   2      None/Unknown        7  ",
      "text/html": "<div>\n<style scoped>\n    .dataframe tbody tr th:only-of-type {\n        vertical-align: middle;\n    }\n\n    .dataframe tbody tr th {\n        vertical-align: top;\n    }\n\n    .dataframe thead th {\n        text-align: right;\n    }\n</style>\n<table border=\"1\" class=\"dataframe\">\n  <thead>\n    <tr style=\"text-align: right;\">\n      <th></th>\n      <th>age_desc</th>\n      <th>marital_status_code</th>\n      <th>income_desc</th>\n      <th>homeowner_desc</th>\n      <th>hh_comp_desc</th>\n      <th>household_size_desc</th>\n      <th>kid_category_desc</th>\n      <th>user_id</th>\n    </tr>\n  </thead>\n  <tbody>\n    <tr>\n      <th>0</th>\n      <td>65+</td>\n      <td>A</td>\n      <td>35-49K</td>\n      <td>Homeowner</td>\n      <td>2 Adults No Kids</td>\n      <td>2</td>\n      <td>None/Unknown</td>\n      <td>1</td>\n    </tr>\n    <tr>\n      <th>1</th>\n      <td>45-54</td>\n      <td>A</td>\n      <td>50-74K</td>\n      <td>Homeowner</td>\n      <td>2 Adults No Kids</td>\n      <td>2</td>\n      <td>None/Unknown</td>\n      <td>7</td>\n    </tr>\n  </tbody>\n</table>\n</div>"
     },
     "execution_count": 3,
     "metadata": {},
     "output_type": "execute_result"
    }
   ],
   "source": [
    "user_features.head(2)"
   ]
  },
  {
   "cell_type": "code",
   "execution_count": 4,
   "id": "edfc099f-ad28-4ee9-a1d9-fe995f247070",
   "metadata": {},
   "outputs": [
    {
     "name": "stderr",
     "output_type": "stream",
     "text": [
      "/Users/coraleks/Projects/GeekBrainsAI/RecSys/homeworks/utils2.py:20: SettingWithCopyWarning: \n",
      "A value is trying to be set on a copy of a slice from a DataFrame.\n",
      "Try using .loc[row_indexer,col_indexer] = value instead\n",
      "\n",
      "See the caveats in the documentation: https://pandas.pydata.org/pandas-docs/stable/user_guide/indexing.html#returning-a-view-versus-a-copy\n",
      "  data['price'] = data['sales_value'] / (np.maximum(data['quantity'], 1))\n"
     ]
    },
    {
     "name": "stdout",
     "output_type": "stream",
     "text": [
      "Decreased # items from 86865 to 5001\n"
     ]
    }
   ],
   "source": [
    "n_items_before = data_train['item_id'].nunique()\n",
    "\n",
    "data_train_filtered = prefilter_items(data_train, take_n_popular=5000, item_features=item_features)\n",
    "\n",
    "n_items_after = data_train_filtered['item_id'].nunique()\n",
    "print('Decreased # items from {} to {}'.format(n_items_before, n_items_after))"
   ]
  },
  {
   "cell_type": "markdown",
   "source": [
    "### 2.1 Prepare csr train matrix"
   ],
   "metadata": {
    "collapsed": false
   }
  },
  {
   "cell_type": "code",
   "execution_count": 5,
   "id": "792ff73e-787a-4560-a78a-6f686497c0a3",
   "metadata": {},
   "outputs": [
    {
     "data": {
      "text/plain": "item_id  25671     26081     26093     26190     26355     26426     26540     \\\nuser_id                                                                         \n1             0.0       0.0       0.0       0.0       0.0       0.0       0.0   \n2             0.0       0.0       0.0       0.0       0.0       0.0       0.0   \n\nitem_id  26601     26636     26691     ...  17328742  17329473  17329749  \\\nuser_id                                ...                                 \n1             0.0       0.0       0.0  ...       0.0       0.0       0.0   \n2             0.0       0.0       0.0  ...       0.0       0.0       0.0   \n\nitem_id  17330255  17330511  17381856  17382205  17383227  17827644  17829232  \nuser_id                                                                        \n1             0.0       0.0       0.0       0.0       0.0       0.0       0.0  \n2             0.0       0.0       0.0       0.0       0.0       0.0       0.0  \n\n[2 rows x 86865 columns]",
      "text/html": "<div>\n<style scoped>\n    .dataframe tbody tr th:only-of-type {\n        vertical-align: middle;\n    }\n\n    .dataframe tbody tr th {\n        vertical-align: top;\n    }\n\n    .dataframe thead th {\n        text-align: right;\n    }\n</style>\n<table border=\"1\" class=\"dataframe\">\n  <thead>\n    <tr style=\"text-align: right;\">\n      <th>item_id</th>\n      <th>25671</th>\n      <th>26081</th>\n      <th>26093</th>\n      <th>26190</th>\n      <th>26355</th>\n      <th>26426</th>\n      <th>26540</th>\n      <th>26601</th>\n      <th>26636</th>\n      <th>26691</th>\n      <th>...</th>\n      <th>17328742</th>\n      <th>17329473</th>\n      <th>17329749</th>\n      <th>17330255</th>\n      <th>17330511</th>\n      <th>17381856</th>\n      <th>17382205</th>\n      <th>17383227</th>\n      <th>17827644</th>\n      <th>17829232</th>\n    </tr>\n    <tr>\n      <th>user_id</th>\n      <th></th>\n      <th></th>\n      <th></th>\n      <th></th>\n      <th></th>\n      <th></th>\n      <th></th>\n      <th></th>\n      <th></th>\n      <th></th>\n      <th></th>\n      <th></th>\n      <th></th>\n      <th></th>\n      <th></th>\n      <th></th>\n      <th></th>\n      <th></th>\n      <th></th>\n      <th></th>\n      <th></th>\n    </tr>\n  </thead>\n  <tbody>\n    <tr>\n      <th>1</th>\n      <td>0.0</td>\n      <td>0.0</td>\n      <td>0.0</td>\n      <td>0.0</td>\n      <td>0.0</td>\n      <td>0.0</td>\n      <td>0.0</td>\n      <td>0.0</td>\n      <td>0.0</td>\n      <td>0.0</td>\n      <td>...</td>\n      <td>0.0</td>\n      <td>0.0</td>\n      <td>0.0</td>\n      <td>0.0</td>\n      <td>0.0</td>\n      <td>0.0</td>\n      <td>0.0</td>\n      <td>0.0</td>\n      <td>0.0</td>\n      <td>0.0</td>\n    </tr>\n    <tr>\n      <th>2</th>\n      <td>0.0</td>\n      <td>0.0</td>\n      <td>0.0</td>\n      <td>0.0</td>\n      <td>0.0</td>\n      <td>0.0</td>\n      <td>0.0</td>\n      <td>0.0</td>\n      <td>0.0</td>\n      <td>0.0</td>\n      <td>...</td>\n      <td>0.0</td>\n      <td>0.0</td>\n      <td>0.0</td>\n      <td>0.0</td>\n      <td>0.0</td>\n      <td>0.0</td>\n      <td>0.0</td>\n      <td>0.0</td>\n      <td>0.0</td>\n      <td>0.0</td>\n    </tr>\n  </tbody>\n</table>\n<p>2 rows × 86865 columns</p>\n</div>"
     },
     "execution_count": 5,
     "metadata": {},
     "output_type": "execute_result"
    }
   ],
   "source": [
    "\n",
    "\n",
    "user_item_matrix = pd.pivot_table(data_train, \n",
    "                                  index='user_id', columns='item_id', \n",
    "                                  values='quantity', # Можно пробовать другие варианты\n",
    "                                  aggfunc='count', \n",
    "                                  fill_value=0\n",
    "                                 )\n",
    "\n",
    "user_item_matrix = user_item_matrix.astype(float) # необходимый тип матрицы для implicit\n",
    "\n",
    "# переведем в формат sparse matrix\n",
    "sparse_user_item = csr_matrix(user_item_matrix).tocsr()\n",
    "\n",
    "user_item_matrix.head(2)"
   ]
  },
  {
   "cell_type": "markdown",
   "source": [
    "### 2.2 Prepare CSR test matrix"
   ],
   "metadata": {
    "collapsed": false
   }
  },
  {
   "cell_type": "code",
   "execution_count": 6,
   "id": "93ec98e6-7dd3-4de2-9ead-775f48db6da7",
   "metadata": {},
   "outputs": [],
   "source": [
    "\n",
    "data_test = data_test[data_test['item_id'].isin(data_train['item_id'].unique())]\n",
    "\n",
    "test_user_item_matrix = pd.pivot_table(data_test, \n",
    "                                  index='user_id', columns='item_id', \n",
    "                                  values='quantity', # Можно пробовать другие варианты\n",
    "                                  aggfunc='count', \n",
    "                                  fill_value=0\n",
    "                                 )\n",
    "\n",
    "test_user_item_matrix = test_user_item_matrix.astype(float) # необходимый тип матрицы для implicit"
   ]
  },
  {
   "cell_type": "code",
   "execution_count": 7,
   "id": "23b6106e-a523-4b4c-bf18-0a15cc3bf873",
   "metadata": {},
   "outputs": [],
   "source": [
    "userids = user_item_matrix.index.values\n",
    "itemids = user_item_matrix.columns.values\n",
    "\n",
    "matrix_userids = np.arange(len(userids))\n",
    "matrix_itemids = np.arange(len(itemids))\n",
    "\n",
    "id_to_itemid = dict(zip(matrix_itemids, itemids))\n",
    "id_to_userid = dict(zip(matrix_userids, userids))\n",
    "\n",
    "itemid_to_id = dict(zip(itemids, matrix_itemids))\n",
    "userid_to_id = dict(zip(userids, matrix_userids))"
   ]
  },
  {
   "cell_type": "code",
   "execution_count": 8,
   "id": "3f171822-4ac9-42fb-964d-6ab86847f52d",
   "metadata": {},
   "outputs": [
    {
     "data": {
      "text/plain": "        age_desc marital_status_code income_desc homeowner_desc  \\\nuser_id                                                           \n1            65+                   A      35-49K      Homeowner   \n2            NaN                 NaN         NaN            NaN   \n3            NaN                 NaN         NaN            NaN   \n4            NaN                 NaN         NaN            NaN   \n5            NaN                 NaN         NaN            NaN   \n\n             hh_comp_desc household_size_desc kid_category_desc  \nuser_id                                                          \n1        2 Adults No Kids                   2      None/Unknown  \n2                     NaN                 NaN               NaN  \n3                     NaN                 NaN               NaN  \n4                     NaN                 NaN               NaN  \n5                     NaN                 NaN               NaN  ",
      "text/html": "<div>\n<style scoped>\n    .dataframe tbody tr th:only-of-type {\n        vertical-align: middle;\n    }\n\n    .dataframe tbody tr th {\n        vertical-align: top;\n    }\n\n    .dataframe thead th {\n        text-align: right;\n    }\n</style>\n<table border=\"1\" class=\"dataframe\">\n  <thead>\n    <tr style=\"text-align: right;\">\n      <th></th>\n      <th>age_desc</th>\n      <th>marital_status_code</th>\n      <th>income_desc</th>\n      <th>homeowner_desc</th>\n      <th>hh_comp_desc</th>\n      <th>household_size_desc</th>\n      <th>kid_category_desc</th>\n    </tr>\n    <tr>\n      <th>user_id</th>\n      <th></th>\n      <th></th>\n      <th></th>\n      <th></th>\n      <th></th>\n      <th></th>\n      <th></th>\n    </tr>\n  </thead>\n  <tbody>\n    <tr>\n      <th>1</th>\n      <td>65+</td>\n      <td>A</td>\n      <td>35-49K</td>\n      <td>Homeowner</td>\n      <td>2 Adults No Kids</td>\n      <td>2</td>\n      <td>None/Unknown</td>\n    </tr>\n    <tr>\n      <th>2</th>\n      <td>NaN</td>\n      <td>NaN</td>\n      <td>NaN</td>\n      <td>NaN</td>\n      <td>NaN</td>\n      <td>NaN</td>\n      <td>NaN</td>\n    </tr>\n    <tr>\n      <th>3</th>\n      <td>NaN</td>\n      <td>NaN</td>\n      <td>NaN</td>\n      <td>NaN</td>\n      <td>NaN</td>\n      <td>NaN</td>\n      <td>NaN</td>\n    </tr>\n    <tr>\n      <th>4</th>\n      <td>NaN</td>\n      <td>NaN</td>\n      <td>NaN</td>\n      <td>NaN</td>\n      <td>NaN</td>\n      <td>NaN</td>\n      <td>NaN</td>\n    </tr>\n    <tr>\n      <th>5</th>\n      <td>NaN</td>\n      <td>NaN</td>\n      <td>NaN</td>\n      <td>NaN</td>\n      <td>NaN</td>\n      <td>NaN</td>\n      <td>NaN</td>\n    </tr>\n  </tbody>\n</table>\n</div>"
     },
     "execution_count": 8,
     "metadata": {},
     "output_type": "execute_result"
    }
   ],
   "source": [
    "# 3. Prepare user and item features\n",
    "\n",
    "user_feat = pd.DataFrame(user_item_matrix.index)\n",
    "user_feat = user_feat.merge(user_features, on='user_id', how='left')\n",
    "user_feat.set_index('user_id', inplace=True)\n",
    "user_feat.head(5)"
   ]
  },
  {
   "cell_type": "code",
   "execution_count": 9,
   "id": "c27f3806-5254-4971-9e02-10493a36e5aa",
   "metadata": {},
   "outputs": [
    {
     "data": {
      "text/plain": "         manufacturer    department     brand            commodity_desc  \\\nitem_id                                                                   \n25671               2       GROCERY  National                  FRZN ICE   \n26081               2  MISC. TRANS.  National  NO COMMODITY DESCRIPTION   \n\n                  sub_commodity_desc curr_size_of_product  \nitem_id                                                    \n25671            ICE - CRUSHED/CUBED                22 LB  \n26081    NO SUBCOMMODITY DESCRIPTION                       ",
      "text/html": "<div>\n<style scoped>\n    .dataframe tbody tr th:only-of-type {\n        vertical-align: middle;\n    }\n\n    .dataframe tbody tr th {\n        vertical-align: top;\n    }\n\n    .dataframe thead th {\n        text-align: right;\n    }\n</style>\n<table border=\"1\" class=\"dataframe\">\n  <thead>\n    <tr style=\"text-align: right;\">\n      <th></th>\n      <th>manufacturer</th>\n      <th>department</th>\n      <th>brand</th>\n      <th>commodity_desc</th>\n      <th>sub_commodity_desc</th>\n      <th>curr_size_of_product</th>\n    </tr>\n    <tr>\n      <th>item_id</th>\n      <th></th>\n      <th></th>\n      <th></th>\n      <th></th>\n      <th></th>\n      <th></th>\n    </tr>\n  </thead>\n  <tbody>\n    <tr>\n      <th>25671</th>\n      <td>2</td>\n      <td>GROCERY</td>\n      <td>National</td>\n      <td>FRZN ICE</td>\n      <td>ICE - CRUSHED/CUBED</td>\n      <td>22 LB</td>\n    </tr>\n    <tr>\n      <th>26081</th>\n      <td>2</td>\n      <td>MISC. TRANS.</td>\n      <td>National</td>\n      <td>NO COMMODITY DESCRIPTION</td>\n      <td>NO SUBCOMMODITY DESCRIPTION</td>\n      <td></td>\n    </tr>\n  </tbody>\n</table>\n</div>"
     },
     "execution_count": 9,
     "metadata": {},
     "output_type": "execute_result"
    }
   ],
   "source": [
    "item_feat = pd.DataFrame(user_item_matrix.columns)\n",
    "item_feat = item_feat.merge(item_features, on='item_id', how='left')\n",
    "item_feat.set_index('item_id', inplace=True)\n",
    "\n",
    "item_feat.head(2)"
   ]
  },
  {
   "cell_type": "code",
   "execution_count": 10,
   "id": "2804ca7d-012d-40f3-89e1-bf4e5ec8a2ff",
   "metadata": {},
   "outputs": [],
   "source": [
    "# Encoding features\n",
    "\n",
    "user_feat_lightfm = pd.get_dummies(user_feat, columns=user_feat.columns.tolist())\n",
    "item_feat_lightfm = pd.get_dummies(item_feat, columns=item_feat.columns.tolist())"
   ]
  },
  {
   "cell_type": "code",
   "execution_count": 11,
   "id": "878039b5-71c9-4d60-842e-cafa715a2007",
   "metadata": {},
   "outputs": [
    {
     "name": "stdout",
     "output_type": "stream",
     "text": [
      "N 1 - Loss:bpr , Dimensionality of the feature: 5,  Regularization:  0.5: p_at_k:0.00568\n",
      "N 2 - Loss:bpr , Dimensionality of the feature: 5,  Regularization: 0.05: p_at_k:0.00284\n",
      "N 3 - Loss:bpr , Dimensionality of the feature:10,  Regularization:  0.5: p_at_k:0.00069\n",
      "N 4 - Loss:bpr , Dimensionality of the feature:10,  Regularization: 0.05: p_at_k:0.00284\n",
      "N 5 - Loss:bpr , Dimensionality of the feature:15,  Regularization:  0.5: p_at_k:0.00206\n",
      "N 6 - Loss:bpr , Dimensionality of the feature:15,  Regularization: 0.05: p_at_k:0.00274\n",
      "N 7 - Loss:warp, Dimensionality of the feature: 5,  Regularization:  0.5: p_at_k:0.00049\n",
      "N 8 - Loss:warp, Dimensionality of the feature: 5,  Regularization: 0.05: p_at_k:0.00225\n",
      "N 9 - Loss:warp, Dimensionality of the feature:10,  Regularization:  0.5: p_at_k:0.00000\n",
      "N 10 - Loss:warp, Dimensionality of the feature:10,  Regularization: 0.05: p_at_k:0.00225\n",
      "N 11 - Loss:warp, Dimensionality of the feature:15,  Regularization:  0.5: p_at_k:0.00118\n",
      "N 12 - Loss:warp, Dimensionality of the feature:15,  Regularization: 0.05: p_at_k:0.00225\n",
      "CPU times: user 28min 46s, sys: 53.1 s, total: 29min 39s\n",
      "Wall time: 31min 45s\n"
     ]
    }
   ],
   "source": [
    "%%time\n",
    "\n",
    "params = dict(loss=['bpr', 'warp'],dim_features=[ 5, 10, 15],regularization=[ 0.5, 0.05])\n",
    "\n",
    "epochs = 10\n",
    "nn=1\n",
    "for loss in params['loss']:\n",
    "    for dim_feature in params['dim_features']:\n",
    "        for L2penalty in params['regularization']:\n",
    "            model = LightFM(no_components=dim_feature,\n",
    "                loss=loss,\n",
    "                learning_rate=0.05, \n",
    "                item_alpha=L2penalty,\n",
    "                user_alpha=L2penalty,\n",
    "                random_state=42)\n",
    "\n",
    "            model.fit((sparse_user_item > 0) * 1,  # user-item matrix из 0 и 1\n",
    "                sample_weight=coo_matrix(user_item_matrix),\n",
    "                user_features=csr_matrix(user_feat_lightfm.values).tocsr(),\n",
    "                item_features=csr_matrix(item_feat_lightfm.values).tocsr(),\n",
    "                epochs=epochs,\n",
    "                num_threads=4,\n",
    "                verbose=False)\n",
    "            \n",
    "            test_precision = precision_at_k(model, csr_matrix(test_user_item_matrix).tocsr(), \n",
    "                                 user_features=csr_matrix(user_feat_lightfm.values).tocsr(),\n",
    "                                 item_features=csr_matrix(item_feat_lightfm.values).tocsr(),\n",
    "                                 k=5).mean()\n",
    "\n",
    "            print(f'N {nn} - Loss:{loss:4}, Dimensionality of the feature:{dim_feature:2},  Regularization:{L2penalty:5}: p_at_k:{test_precision:7.5f}')\n",
    "            nn += 1"
   ]
  },
  {
   "cell_type": "markdown",
   "id": "474a7d6c-0fbf-4d93-828e-d737a5ee5a14",
   "metadata": {
    "pycharm": {
     "name": "#%% md\n"
    }
   },
   "source": [
    "> **Оптимальные параметры модели:**\n",
    ">\n",
    "> Функция потерь (Loss): **bpr**\n",
    "> Размерность векторов (Dimensionality of the feature): **5**\n",
    "> Коэффициент регуляризация (Regularization): **0,5**"
   ]
  },
  {
   "cell_type": "code",
   "execution_count": null,
   "outputs": [],
   "source": [],
   "metadata": {
    "collapsed": false,
    "pycharm": {
     "name": "#%%\n"
    }
   }
  }
 ],
 "metadata": {
  "kernelspec": {
   "display_name": "Python 3",
   "language": "python",
   "name": "python3"
  },
  "language_info": {
   "codemirror_mode": {
    "name": "ipython",
    "version": 3
   },
   "file_extension": ".py",
   "mimetype": "text/x-python",
   "name": "python",
   "nbconvert_exporter": "python",
   "pygments_lexer": "ipython3",
   "version": "3.8.8"
  }
 },
 "nbformat": 4,
 "nbformat_minor": 5
}