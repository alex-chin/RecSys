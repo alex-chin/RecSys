{
 "cells": [
  {
   "cell_type": "markdown",
   "source": [
    "## Практическое задание N 3"
   ],
   "metadata": {
    "collapsed": false,
    "pycharm": {
     "name": "#%% md\n"
    }
   }
  },
  {
   "cell_type": "markdown",
   "metadata": {
    "id": "2wqsdRrTIHyc"
   },
   "source": [
    "Исчерпывающую информацию с теорией, кодом и примерами можно найти в [статье](https://www.ethanrosenthal.com/2016/10/19/implicit-mf-part-1/)"
   ]
  },
  {
   "cell_type": "markdown",
   "source": [
    "### Ответы на вопросы семинара."
   ],
   "metadata": {
    "collapsed": false,
    "pycharm": {
     "name": "#%% md\n"
    }
   }
  },
  {
   "cell_type": "markdown",
   "source": [
    "**Ожидание:**\n",
    "- Отправляем e-mail с топ-10 товарами, отсортированными по вероятности\n",
    "\n",
    "**Реальность:**\n",
    "- Чего хочет менеджер от рекомендательной системы? (рост показателя X на Y% за Z недель)\n",
    "- По-хорошему надо бы предварительно посчитать потенциальный эффект от рекоммендательной системы (Оценки эффектов у менеджера и у вас могут сильно не совпадать: как правило, вы знаете про данные больше)\n",
    "- А у нас вообще есть e-mail-ы пользователей? Для скольки %? Не устарели ли они?\n",
    "- Будем ли использовать СМС и push-уведомления в приложении? Может, будем печатать рекомендации на чеке после оплаты на кассе?\n",
    "- Как будет выглядеть e-mail? (решаем задачу топ-10 рекомендаций или ранжирования? И топ-10 ли?)\n",
    "- Какие товары должны быть в e-mail? Есть ли какие-то ограничения (только акции и т п)?\n",
    "- Сколько денег мы готовы потратить на привлечение 1 юзера? CAC - Customer Aquisition Cost. Обычно CAC = расходы на коммуникацию + расходы на скидки\n",
    "- Cколько мы хотим зарабатывать с одного привлеченного юзера?\n",
    "---\n",
    "- А точно нужно сортировать по вероятности?\n",
    "- Какую метрику использовать?\n",
    "- Сколько раз в неделю отпрпавляем рассылку?\n",
    "- В какое время отправляем рассылку?\n",
    "- Будем отправлять одному юзеру много раз наши рекоммендации. Как добиться того, чтобы они хоть немного отличались?\n",
    "- Нужно ли, чтобы в одной рассылке были *разные* товары? Как определить, что товары *разные*? Как добиться того, чтобы они были разными?\n",
    "- И многое другое:)"
   ],
   "metadata": {
    "collapsed": false,
    "pycharm": {
     "name": "#%% md\n"
    }
   }
  },
  {
   "cell_type": "markdown",
   "source": [
    "**В итоге договорились, что:**\n",
    "- Хотим повысить выручку минимум на 6% за 4 месяца. Будем повышать за счет роста Retention минимум на  3% и среднего чека минимум на 3%\n",
    "- Топ-5 товаров, а не топ-10 (В e-mail 10 выглядят не красиво, в push и на чек больше 5 не влезает)\n",
    "- Рассылаем в e-mail (5% клиентов) и push-уведомлении (20% клиентов), печатаем на чеке (все оффлайн клиенты)\n",
    "- **3 товара с акцией** (Как это учесть? А если на товар была акция 10%, а потом 50%, что будет стоять в user-item матрице?)\n",
    "- **1 новый товар** (юзер никогда не покупал. Просто фильтруем аутпут ALS? А если у таких товаров очень маленькая вероятность покупки? Может, использовать другую логику/модель?)\n",
    "- **1 товар для роста среднего чека** (товары минимум дороже чем обычно покупает юзер. Как это измерить? На сколько дороже?)"
   ],
   "metadata": {
    "collapsed": false,
    "pycharm": {
     "name": "#%% md\n"
    }
   }
  },
  {
   "cell_type": "markdown",
   "source": [
    "> **учет товаров с акцией** - Как вариант создать словарь товаров по акции, при обязательной рекомендации выбрать по скору из модели с помощью функции **model.rank_items** указав в selected_item товары по акцией"
   ],
   "metadata": {
    "collapsed": false,
    "pycharm": {
     "name": "#%% md\n"
    }
   }
  },
  {
   "cell_type": "markdown",
   "source": [
    "> **1 новый товар** - Cтратегия следующая: находим похожие профили с помощью **model_simular_user**. далее вычитаем товары которые уже есть."
   ],
   "metadata": {
    "collapsed": false,
    "pycharm": {
     "name": "#%% md\n"
    }
   }
  },
  {
   "cell_type": "markdown",
   "source": [
    "> **1 товар для роста среднего чека** - Здесь следует использовать например **75% квантиль** по нормальному распределению стоимости товара."
   ],
   "metadata": {
    "collapsed": false,
    "pycharm": {
     "name": "#%% md\n"
    }
   }
  },
  {
   "cell_type": "markdown",
   "source": [
    "### Подключение библиотек"
   ],
   "metadata": {
    "collapsed": false,
    "pycharm": {
     "name": "#%% md\n"
    }
   }
  },
  {
   "cell_type": "code",
   "execution_count": 1,
   "metadata": {
    "id": "gdbpCE-gIHyi"
   },
   "outputs": [],
   "source": [
    "import pandas as pd\n",
    "import numpy as np\n",
    "import matplotlib.pyplot as plt\n",
    "%matplotlib inline\n",
    "\n",
    "# Для работы с матрицами\n",
    "from scipy.sparse import csr_matrix\n",
    "\n",
    "# Матричная факторизация\n",
    "from implicit.als import AlternatingLeastSquares\n",
    "from implicit.nearest_neighbours import bm25_weight, tfidf_weight  # взвешивание\n",
    "\n",
    "# Функции из 1-ого вебинара\n",
    "import os, sys\n",
    "\n",
    "module_path = os.path.abspath(os.path.join(os.pardir))\n",
    "if module_path not in sys.path:\n",
    "    sys.path.append(module_path)\n",
    "\n",
    "from metrics import precision_at_k, recall_at_k\n",
    "import itertools\n",
    "import copy"
   ]
  },
  {
   "cell_type": "markdown",
   "source": [
    "### Чтение данных о взаимодействиях. Разделение на обучающую выборку и тестовую"
   ],
   "metadata": {
    "collapsed": false,
    "pycharm": {
     "name": "#%% md\n"
    }
   }
  },
  {
   "cell_type": "code",
   "execution_count": 2,
   "metadata": {
    "id": "2IhaU8JDIHyi",
    "outputId": "a3a22636-04a2-4ad4-9774-e0c5cbcd6a09"
   },
   "outputs": [
    {
     "data": {
      "text/plain": "   user_id    basket_id  day  item_id  quantity  sales_value  store_id  \\\n0     2375  26984851472    1  1004906         1         1.39       364   \n1     2375  26984851472    1  1033142         1         0.82       364   \n2     2375  26984851472    1  1036325         1         0.99       364   \n3     2375  26984851472    1  1082185         1         1.21       364   \n4     2375  26984851472    1  8160430         1         1.50       364   \n5     2375  26984851516    1   826249         2         1.98       364   \n6     2375  26984851516    1  1043142         1         1.57       364   \n7     2375  26984851516    1  1085983         1         2.99       364   \n8     2375  26984851516    1  1102651         1         1.89       364   \n9     2375  26984851516    1  6423775         1         2.00       364   \n\n   retail_disc  trans_time  week_no  coupon_disc  coupon_match_disc  \n0        -0.60        1631        1          0.0                0.0  \n1         0.00        1631        1          0.0                0.0  \n2        -0.30        1631        1          0.0                0.0  \n3         0.00        1631        1          0.0                0.0  \n4        -0.39        1631        1          0.0                0.0  \n5        -0.60        1642        1          0.0                0.0  \n6        -0.68        1642        1          0.0                0.0  \n7        -0.40        1642        1          0.0                0.0  \n8         0.00        1642        1          0.0                0.0  \n9        -0.79        1642        1          0.0                0.0  ",
      "text/html": "<div>\n<style scoped>\n    .dataframe tbody tr th:only-of-type {\n        vertical-align: middle;\n    }\n\n    .dataframe tbody tr th {\n        vertical-align: top;\n    }\n\n    .dataframe thead th {\n        text-align: right;\n    }\n</style>\n<table border=\"1\" class=\"dataframe\">\n  <thead>\n    <tr style=\"text-align: right;\">\n      <th></th>\n      <th>user_id</th>\n      <th>basket_id</th>\n      <th>day</th>\n      <th>item_id</th>\n      <th>quantity</th>\n      <th>sales_value</th>\n      <th>store_id</th>\n      <th>retail_disc</th>\n      <th>trans_time</th>\n      <th>week_no</th>\n      <th>coupon_disc</th>\n      <th>coupon_match_disc</th>\n    </tr>\n  </thead>\n  <tbody>\n    <tr>\n      <th>0</th>\n      <td>2375</td>\n      <td>26984851472</td>\n      <td>1</td>\n      <td>1004906</td>\n      <td>1</td>\n      <td>1.39</td>\n      <td>364</td>\n      <td>-0.60</td>\n      <td>1631</td>\n      <td>1</td>\n      <td>0.0</td>\n      <td>0.0</td>\n    </tr>\n    <tr>\n      <th>1</th>\n      <td>2375</td>\n      <td>26984851472</td>\n      <td>1</td>\n      <td>1033142</td>\n      <td>1</td>\n      <td>0.82</td>\n      <td>364</td>\n      <td>0.00</td>\n      <td>1631</td>\n      <td>1</td>\n      <td>0.0</td>\n      <td>0.0</td>\n    </tr>\n    <tr>\n      <th>2</th>\n      <td>2375</td>\n      <td>26984851472</td>\n      <td>1</td>\n      <td>1036325</td>\n      <td>1</td>\n      <td>0.99</td>\n      <td>364</td>\n      <td>-0.30</td>\n      <td>1631</td>\n      <td>1</td>\n      <td>0.0</td>\n      <td>0.0</td>\n    </tr>\n    <tr>\n      <th>3</th>\n      <td>2375</td>\n      <td>26984851472</td>\n      <td>1</td>\n      <td>1082185</td>\n      <td>1</td>\n      <td>1.21</td>\n      <td>364</td>\n      <td>0.00</td>\n      <td>1631</td>\n      <td>1</td>\n      <td>0.0</td>\n      <td>0.0</td>\n    </tr>\n    <tr>\n      <th>4</th>\n      <td>2375</td>\n      <td>26984851472</td>\n      <td>1</td>\n      <td>8160430</td>\n      <td>1</td>\n      <td>1.50</td>\n      <td>364</td>\n      <td>-0.39</td>\n      <td>1631</td>\n      <td>1</td>\n      <td>0.0</td>\n      <td>0.0</td>\n    </tr>\n    <tr>\n      <th>5</th>\n      <td>2375</td>\n      <td>26984851516</td>\n      <td>1</td>\n      <td>826249</td>\n      <td>2</td>\n      <td>1.98</td>\n      <td>364</td>\n      <td>-0.60</td>\n      <td>1642</td>\n      <td>1</td>\n      <td>0.0</td>\n      <td>0.0</td>\n    </tr>\n    <tr>\n      <th>6</th>\n      <td>2375</td>\n      <td>26984851516</td>\n      <td>1</td>\n      <td>1043142</td>\n      <td>1</td>\n      <td>1.57</td>\n      <td>364</td>\n      <td>-0.68</td>\n      <td>1642</td>\n      <td>1</td>\n      <td>0.0</td>\n      <td>0.0</td>\n    </tr>\n    <tr>\n      <th>7</th>\n      <td>2375</td>\n      <td>26984851516</td>\n      <td>1</td>\n      <td>1085983</td>\n      <td>1</td>\n      <td>2.99</td>\n      <td>364</td>\n      <td>-0.40</td>\n      <td>1642</td>\n      <td>1</td>\n      <td>0.0</td>\n      <td>0.0</td>\n    </tr>\n    <tr>\n      <th>8</th>\n      <td>2375</td>\n      <td>26984851516</td>\n      <td>1</td>\n      <td>1102651</td>\n      <td>1</td>\n      <td>1.89</td>\n      <td>364</td>\n      <td>0.00</td>\n      <td>1642</td>\n      <td>1</td>\n      <td>0.0</td>\n      <td>0.0</td>\n    </tr>\n    <tr>\n      <th>9</th>\n      <td>2375</td>\n      <td>26984851516</td>\n      <td>1</td>\n      <td>6423775</td>\n      <td>1</td>\n      <td>2.00</td>\n      <td>364</td>\n      <td>-0.79</td>\n      <td>1642</td>\n      <td>1</td>\n      <td>0.0</td>\n      <td>0.0</td>\n    </tr>\n  </tbody>\n</table>\n</div>"
     },
     "execution_count": 2,
     "metadata": {},
     "output_type": "execute_result"
    }
   ],
   "source": [
    "data = pd.read_csv('../data/retail_train.csv')\n",
    "\n",
    "data.columns = [col.lower() for col in data.columns]\n",
    "data.rename(columns={'household_key': 'user_id',\n",
    "                     'product_id': 'item_id'},\n",
    "            inplace=True)\n",
    "\n",
    "test_size_weeks = 3\n",
    "\n",
    "data_train = data[data['week_no'] < data['week_no'].max() - test_size_weeks]\n",
    "data_test = data[data['week_no'] >= data['week_no'].max() - test_size_weeks]\n",
    "\n",
    "data_train.head(10)"
   ]
  },
  {
   "cell_type": "markdown",
   "source": [
    "### Группировка user-item для обуч и тестовой выборок"
   ],
   "metadata": {
    "collapsed": false,
    "pycharm": {
     "name": "#%% md\n"
    }
   }
  },
  {
   "cell_type": "code",
   "execution_count": 3,
   "metadata": {},
   "outputs": [
    {
     "data": {
      "text/plain": "   user_id                                             actual\n0        1  [825123, 831447, 840361, 845307, 852014, 85498...\n1        2  [854852, 930118, 1077555, 1098066, 5567388, 55...",
      "text/html": "<div>\n<style scoped>\n    .dataframe tbody tr th:only-of-type {\n        vertical-align: middle;\n    }\n\n    .dataframe tbody tr th {\n        vertical-align: top;\n    }\n\n    .dataframe thead th {\n        text-align: right;\n    }\n</style>\n<table border=\"1\" class=\"dataframe\">\n  <thead>\n    <tr style=\"text-align: right;\">\n      <th></th>\n      <th>user_id</th>\n      <th>actual</th>\n    </tr>\n  </thead>\n  <tbody>\n    <tr>\n      <th>0</th>\n      <td>1</td>\n      <td>[825123, 831447, 840361, 845307, 852014, 85498...</td>\n    </tr>\n    <tr>\n      <th>1</th>\n      <td>2</td>\n      <td>[854852, 930118, 1077555, 1098066, 5567388, 55...</td>\n    </tr>\n  </tbody>\n</table>\n</div>"
     },
     "execution_count": 3,
     "metadata": {},
     "output_type": "execute_result"
    }
   ],
   "source": [
    "#train\n",
    "result_train = data_train.groupby('user_id')['item_id'].unique().reset_index()\n",
    "result_train.columns = ['user_id', 'actual']\n",
    "result_train.head(2)"
   ]
  },
  {
   "cell_type": "code",
   "execution_count": 4,
   "metadata": {
    "id": "vBJcGBpTIHyl",
    "outputId": "612dfe1f-286b-4d81-af92-721c6e317b6c"
   },
   "outputs": [
    {
     "data": {
      "text/plain": "   user_id                                             actual\n0        1  [821867, 834484, 856942, 865456, 889248, 90795...\n1        3  [835476, 851057, 872021, 878302, 879948, 90963...",
      "text/html": "<div>\n<style scoped>\n    .dataframe tbody tr th:only-of-type {\n        vertical-align: middle;\n    }\n\n    .dataframe tbody tr th {\n        vertical-align: top;\n    }\n\n    .dataframe thead th {\n        text-align: right;\n    }\n</style>\n<table border=\"1\" class=\"dataframe\">\n  <thead>\n    <tr style=\"text-align: right;\">\n      <th></th>\n      <th>user_id</th>\n      <th>actual</th>\n    </tr>\n  </thead>\n  <tbody>\n    <tr>\n      <th>0</th>\n      <td>1</td>\n      <td>[821867, 834484, 856942, 865456, 889248, 90795...</td>\n    </tr>\n    <tr>\n      <th>1</th>\n      <td>3</td>\n      <td>[835476, 851057, 872021, 878302, 879948, 90963...</td>\n    </tr>\n  </tbody>\n</table>\n</div>"
     },
     "execution_count": 4,
     "metadata": {},
     "output_type": "execute_result"
    }
   ],
   "source": [
    "#test\n",
    "result = data_test.groupby('user_id')['item_id'].unique().reset_index()\n",
    "result.columns = ['user_id', 'actual']\n",
    "result.head(2)"
   ]
  },
  {
   "cell_type": "markdown",
   "source": [
    "###   Создание матрицы взаимодействия (Выделение 5000 популярных, создание фиктивного товара)"
   ],
   "metadata": {
    "collapsed": false,
    "pycharm": {
     "name": "#%% md\n"
    }
   }
  },
  {
   "cell_type": "code",
   "execution_count": 5,
   "metadata": {
    "id": "9dmp1II9IHyl"
   },
   "outputs": [],
   "source": [
    "#train\n",
    "popularity = data_train.groupby('item_id')['quantity'].sum().reset_index()\n",
    "popularity.rename(columns={'quantity': 'n_sold'}, inplace=True)\n",
    "\n",
    "top_5000 = popularity.sort_values('n_sold', ascending=False).head(5000).item_id.tolist()"
   ]
  },
  {
   "cell_type": "code",
   "execution_count": 6,
   "metadata": {
    "id": "jvQ8_CJ9IHym",
    "outputId": "ebf07e9a-6f11-4aa9-d43d-98c0055ec42d"
   },
   "outputs": [
    {
     "data": {
      "text/plain": "item_id  202291    397896    420647    480014    545926    707683    731106    \\\nuser_id                                                                         \n1             0.0       0.0       0.0       0.0       0.0       0.0       0.0   \n2             0.0       0.0       0.0       0.0       0.0       0.0       0.0   \n3             0.0       0.0       0.0       0.0       0.0       0.0       0.0   \n\nitem_id  818980    819063    819227    ...  15778533  15831255  15926712  \\\nuser_id                                ...                                 \n1             0.0       0.0       0.0  ...       0.0       0.0       0.0   \n2             0.0       0.0       0.0  ...       0.0       0.0       0.0   \n3             0.0       0.0       0.0  ...       0.0       0.0       0.0   \n\nitem_id  15926775  15926844  15926886  15927403  15927661  15927850  16809471  \nuser_id                                                                        \n1             0.0       1.0       0.0       0.0       0.0       0.0       0.0  \n2             0.0       0.0       0.0       0.0       0.0       0.0       0.0  \n3             0.0       0.0       0.0       0.0       0.0       0.0       0.0  \n\n[3 rows x 5001 columns]",
      "text/html": "<div>\n<style scoped>\n    .dataframe tbody tr th:only-of-type {\n        vertical-align: middle;\n    }\n\n    .dataframe tbody tr th {\n        vertical-align: top;\n    }\n\n    .dataframe thead th {\n        text-align: right;\n    }\n</style>\n<table border=\"1\" class=\"dataframe\">\n  <thead>\n    <tr style=\"text-align: right;\">\n      <th>item_id</th>\n      <th>202291</th>\n      <th>397896</th>\n      <th>420647</th>\n      <th>480014</th>\n      <th>545926</th>\n      <th>707683</th>\n      <th>731106</th>\n      <th>818980</th>\n      <th>819063</th>\n      <th>819227</th>\n      <th>...</th>\n      <th>15778533</th>\n      <th>15831255</th>\n      <th>15926712</th>\n      <th>15926775</th>\n      <th>15926844</th>\n      <th>15926886</th>\n      <th>15927403</th>\n      <th>15927661</th>\n      <th>15927850</th>\n      <th>16809471</th>\n    </tr>\n    <tr>\n      <th>user_id</th>\n      <th></th>\n      <th></th>\n      <th></th>\n      <th></th>\n      <th></th>\n      <th></th>\n      <th></th>\n      <th></th>\n      <th></th>\n      <th></th>\n      <th></th>\n      <th></th>\n      <th></th>\n      <th></th>\n      <th></th>\n      <th></th>\n      <th></th>\n      <th></th>\n      <th></th>\n      <th></th>\n      <th></th>\n    </tr>\n  </thead>\n  <tbody>\n    <tr>\n      <th>1</th>\n      <td>0.0</td>\n      <td>0.0</td>\n      <td>0.0</td>\n      <td>0.0</td>\n      <td>0.0</td>\n      <td>0.0</td>\n      <td>0.0</td>\n      <td>0.0</td>\n      <td>0.0</td>\n      <td>0.0</td>\n      <td>...</td>\n      <td>0.0</td>\n      <td>0.0</td>\n      <td>0.0</td>\n      <td>0.0</td>\n      <td>1.0</td>\n      <td>0.0</td>\n      <td>0.0</td>\n      <td>0.0</td>\n      <td>0.0</td>\n      <td>0.0</td>\n    </tr>\n    <tr>\n      <th>2</th>\n      <td>0.0</td>\n      <td>0.0</td>\n      <td>0.0</td>\n      <td>0.0</td>\n      <td>0.0</td>\n      <td>0.0</td>\n      <td>0.0</td>\n      <td>0.0</td>\n      <td>0.0</td>\n      <td>0.0</td>\n      <td>...</td>\n      <td>0.0</td>\n      <td>0.0</td>\n      <td>0.0</td>\n      <td>0.0</td>\n      <td>0.0</td>\n      <td>0.0</td>\n      <td>0.0</td>\n      <td>0.0</td>\n      <td>0.0</td>\n      <td>0.0</td>\n    </tr>\n    <tr>\n      <th>3</th>\n      <td>0.0</td>\n      <td>0.0</td>\n      <td>0.0</td>\n      <td>0.0</td>\n      <td>0.0</td>\n      <td>0.0</td>\n      <td>0.0</td>\n      <td>0.0</td>\n      <td>0.0</td>\n      <td>0.0</td>\n      <td>...</td>\n      <td>0.0</td>\n      <td>0.0</td>\n      <td>0.0</td>\n      <td>0.0</td>\n      <td>0.0</td>\n      <td>0.0</td>\n      <td>0.0</td>\n      <td>0.0</td>\n      <td>0.0</td>\n      <td>0.0</td>\n    </tr>\n  </tbody>\n</table>\n<p>3 rows × 5001 columns</p>\n</div>"
     },
     "execution_count": 6,
     "metadata": {},
     "output_type": "execute_result"
    }
   ],
   "source": [
    "#train\n",
    "# Заведем фиктивный item_id\n",
    "\n",
    "data_train.loc[~data_train['item_id'].isin(top_5000), 'item_id'] = 999999\n",
    "\n",
    "user_item_matrix = pd.pivot_table(data_train,\n",
    "                                  index='user_id', columns='item_id',\n",
    "                                  values='quantity',  # Можно пробовать другие варианты\n",
    "                                  aggfunc='count',\n",
    "                                  fill_value=0\n",
    "                                  )\n",
    "\n",
    "user_item_matrix = user_item_matrix.astype(float)  # необходимый тип матрицы для implicit\n",
    "\n",
    "# переведем в формат sparse matrix\n",
    "sparse_user_item = csr_matrix(user_item_matrix).tocsr()\n",
    "\n",
    "user_item_matrix.head(3)"
   ]
  },
  {
   "cell_type": "markdown",
   "source": [
    "### Создание словаря №-id"
   ],
   "metadata": {
    "collapsed": false,
    "pycharm": {
     "name": "#%% md\n"
    }
   }
  },
  {
   "cell_type": "code",
   "execution_count": 7,
   "metadata": {
    "id": "TiPuXLb7IHym"
   },
   "outputs": [],
   "source": [
    "#train\n",
    "userids = user_item_matrix.index.values\n",
    "itemids = user_item_matrix.columns.values\n",
    "\n",
    "matrix_userids = np.arange(len(userids))\n",
    "matrix_itemids = np.arange(len(itemids))\n",
    "\n",
    "id_to_itemid = dict(zip(matrix_itemids, itemids))\n",
    "id_to_userid = dict(zip(matrix_userids, userids))\n",
    "\n",
    "itemid_to_id = dict(zip(itemids, matrix_itemids))\n",
    "userid_to_id = dict(zip(userids, matrix_userids))"
   ]
  },
  {
   "cell_type": "markdown",
   "source": [
    "### Построение бейзлайна на ALS"
   ],
   "metadata": {
    "collapsed": false,
    "pycharm": {
     "name": "#%% md\n"
    }
   }
  },
  {
   "cell_type": "code",
   "execution_count": 8,
   "metadata": {
    "colab": {
     "referenced_widgets": [
      "f86969ff8f854a2cb5128440a2a2734e"
     ]
    },
    "id": "3DlT5ppEIHyn",
    "outputId": "c5207262-0dfc-4e42-91bc-e9754aad1906"
   },
   "outputs": [
    {
     "name": "stdout",
     "output_type": "stream",
     "text": [
      "CPU times: total: 58.6 s\n",
      "Wall time: 16.6 s\n"
     ]
    }
   ],
   "source": [
    "%%time\n",
    "#train\n",
    "model = AlternatingLeastSquares(factors=100,  #количество k\n",
    "                                regularization=0.001,  # вариация\n",
    "                                iterations=15,  # вариация\n",
    "                                calculate_training_loss=True,\n",
    "                                num_threads=4)  # 4 потока\n",
    "\n",
    "model.fit(csr_matrix(user_item_matrix).T.tocsr(),  # На вход item-user matrix\n",
    "          show_progress=False)\n",
    "\n",
    "recs = model.recommend(userid=userid_to_id[6],  # userid - id от 0 до N\n",
    "                       user_items=csr_matrix(user_item_matrix).tocsr(),  # на вход user-item matrix\n",
    "                       N=5,  # кол-во рекомендаций\n",
    "                       filter_already_liked_items=False,\n",
    "                       filter_items=None,\n",
    "                       recalculate_user=True)"
   ]
  },
  {
   "cell_type": "code",
   "execution_count": 9,
   "metadata": {
    "id": "NJR0pKy4IHyn",
    "outputId": "f8ea5a18-2e98-43fe-9ec4-5a6f530bf258"
   },
   "outputs": [
    {
     "data": {
      "text/plain": "[1007195, 1023720, 866211, 986912, 1051516]"
     },
     "execution_count": 9,
     "metadata": {},
     "output_type": "execute_result"
    }
   ],
   "source": [
    "[id_to_itemid[rec[0]] for rec in recs]"
   ]
  },
  {
   "cell_type": "markdown",
   "source": [
    "### Генерация рекомендаций для всех пользователей"
   ],
   "metadata": {
    "collapsed": false,
    "pycharm": {
     "name": "#%% md\n"
    }
   }
  },
  {
   "cell_type": "code",
   "execution_count": 10,
   "metadata": {
    "id": "m2MhJPAcIHyo"
   },
   "outputs": [],
   "source": [
    "def get_recommendations(user, model, N=5):\n",
    "    res = [id_to_itemid[rec[0]] for rec in\n",
    "           model.recommend(userid=userid_to_id[user],\n",
    "                           user_items=sparse_user_item,  # на вход user-item matrix\n",
    "                           N=N,\n",
    "                           filter_already_liked_items=False,\n",
    "                           filter_items=None,\n",
    "                           recalculate_user=True)]\n",
    "    return res"
   ]
  },
  {
   "cell_type": "code",
   "execution_count": 11,
   "metadata": {
    "id": "-zbMDYN4IHyo",
    "outputId": "a042ce17-abe1-4b75-aedb-53a3f5c8d839"
   },
   "outputs": [
    {
     "name": "stdout",
     "output_type": "stream",
     "text": [
      "CPU times: total: 4min 58s\n",
      "Wall time: 1min 58s\n"
     ]
    },
    {
     "data": {
      "text/plain": "0.1613124387855044"
     },
     "execution_count": 11,
     "metadata": {},
     "output_type": "execute_result"
    }
   ],
   "source": [
    "%%time\n",
    "#test    \n",
    "result['als'] = result['user_id'].apply(lambda x: get_recommendations(x, model=model, N=5))\n",
    "result.apply(lambda row: precision_at_k(row['als'], row['actual']), axis=1).mean()"
   ]
  },
  {
   "cell_type": "code",
   "execution_count": 12,
   "metadata": {
    "id": "9TqsTlZEIHyp",
    "outputId": "e040c9f0-75ff-4b9d-ab7b-329e30dc5e09"
   },
   "outputs": [
    {
     "data": {
      "text/plain": "   user_id                                             actual  \\\n0        1  [821867, 834484, 856942, 865456, 889248, 90795...   \n1        3  [835476, 851057, 872021, 878302, 879948, 90963...   \n\n                                            als  \n0  [979707, 1100972, 1033142, 5569374, 1105488]  \n1   [5568378, 1106523, 938700, 910032, 1133018]  ",
      "text/html": "<div>\n<style scoped>\n    .dataframe tbody tr th:only-of-type {\n        vertical-align: middle;\n    }\n\n    .dataframe tbody tr th {\n        vertical-align: top;\n    }\n\n    .dataframe thead th {\n        text-align: right;\n    }\n</style>\n<table border=\"1\" class=\"dataframe\">\n  <thead>\n    <tr style=\"text-align: right;\">\n      <th></th>\n      <th>user_id</th>\n      <th>actual</th>\n      <th>als</th>\n    </tr>\n  </thead>\n  <tbody>\n    <tr>\n      <th>0</th>\n      <td>1</td>\n      <td>[821867, 834484, 856942, 865456, 889248, 90795...</td>\n      <td>[979707, 1100972, 1033142, 5569374, 1105488]</td>\n    </tr>\n    <tr>\n      <th>1</th>\n      <td>3</td>\n      <td>[835476, 851057, 872021, 878302, 879948, 90963...</td>\n      <td>[5568378, 1106523, 938700, 910032, 1133018]</td>\n    </tr>\n  </tbody>\n</table>\n</div>"
     },
     "execution_count": 12,
     "metadata": {},
     "output_type": "execute_result"
    }
   ],
   "source": [
    "result.head(2)"
   ]
  },
  {
   "cell_type": "code",
   "execution_count": 13,
   "metadata": {},
   "outputs": [
    {
     "name": "stdout",
     "output_type": "stream",
     "text": [
      "CPU times: total: 6min 7s\n",
      "Wall time: 2min 24s\n"
     ]
    },
    {
     "data": {
      "text/plain": "0.7365346138455382"
     },
     "execution_count": 13,
     "metadata": {},
     "output_type": "execute_result"
    }
   ],
   "source": [
    "%%time\n",
    "#train   \n",
    "result_train['als'] = result_train['user_id'].apply(lambda x: get_recommendations(x, model=model, N=5))\n",
    "result_train.apply(lambda row: precision_at_k(row['als'], row['actual']), axis=1).mean()"
   ]
  },
  {
   "cell_type": "code",
   "execution_count": 16,
   "metadata": {},
   "outputs": [
    {
     "data": {
      "text/plain": "   user_id                                             actual  \\\n0        1  [825123, 831447, 840361, 845307, 852014, 85498...   \n1        2  [854852, 930118, 1077555, 1098066, 5567388, 55...   \n\n                                            als  \n0  [979707, 1100972, 1033142, 5569374, 1105488]  \n1  [1133018, 999999, 1106523, 5569230, 1082185]  ",
      "text/html": "<div>\n<style scoped>\n    .dataframe tbody tr th:only-of-type {\n        vertical-align: middle;\n    }\n\n    .dataframe tbody tr th {\n        vertical-align: top;\n    }\n\n    .dataframe thead th {\n        text-align: right;\n    }\n</style>\n<table border=\"1\" class=\"dataframe\">\n  <thead>\n    <tr style=\"text-align: right;\">\n      <th></th>\n      <th>user_id</th>\n      <th>actual</th>\n      <th>als</th>\n    </tr>\n  </thead>\n  <tbody>\n    <tr>\n      <th>0</th>\n      <td>1</td>\n      <td>[825123, 831447, 840361, 845307, 852014, 85498...</td>\n      <td>[979707, 1100972, 1033142, 5569374, 1105488]</td>\n    </tr>\n    <tr>\n      <th>1</th>\n      <td>2</td>\n      <td>[854852, 930118, 1077555, 1098066, 5567388, 55...</td>\n      <td>[1133018, 999999, 1106523, 5569230, 1082185]</td>\n    </tr>\n  </tbody>\n</table>\n</div>"
     },
     "execution_count": 16,
     "metadata": {},
     "output_type": "execute_result"
    }
   ],
   "source": [
    "result_train.head(2)"
   ]
  },
  {
   "cell_type": "markdown",
   "source": [
    "### Построение модели обучения"
   ],
   "metadata": {
    "collapsed": false,
    "pycharm": {
     "name": "#%% md\n"
    }
   }
  },
  {
   "cell_type": "code",
   "execution_count": 17,
   "metadata": {},
   "outputs": [],
   "source": [
    "#train = csr_matrix(user_item_matrix).T.tocsr()\n",
    "#train_actual = result_train\n",
    "#test_actual = result\n",
    "#epochs=range(2, 40, 2)\n",
    "def learning_curve(model, train, train_actual, test_actual, epochs, k=5):\n",
    "    prev_epoch = 0\n",
    "    train_precision = []\n",
    "    test_precision = []\n",
    "\n",
    "    for epoch in epochs:\n",
    "        model.iterations = epoch - prev_epoch\n",
    "        if not hasattr(model, 'user_vectors'):\n",
    "            model.fit(train, show_progress=False)\n",
    "        else:\n",
    "            model.fit_partial(train, show_progress=False)\n",
    "\n",
    "        test_actual['als'] = test_actual['user_id'].apply(lambda x: get_recommendations(x, model=model, N=5))\n",
    "        train_actual['als'] = train_actual['user_id'].apply(lambda x: get_recommendations(x, model=model, N=5))\n",
    "\n",
    "        train_precision.append(train_actual.apply(lambda row: precision_at_k(row['als'], row['actual']), axis=1).mean())\n",
    "        test_precision.append(test_actual.apply(lambda row: precision_at_k(row['als'], row['actual']), axis=1).mean())\n",
    "        row = [epoch, train_precision[-1], test_precision[-1]]\n",
    "        print(f'epoch: {epoch}, p@k train: {train_precision[-1]}, p@k test: {test_precision[-1]}')\n",
    "        prev_epoch = epoch\n",
    "    return model, train_precision, test_precision\n"
   ]
  },
  {
   "cell_type": "code",
   "execution_count": 18,
   "metadata": {},
   "outputs": [
    {
     "name": "stdout",
     "output_type": "stream",
     "text": [
      "epoch: 2, p@k train: 0.6569027611044418, p@k test: 0.18374142997061707\n",
      "epoch: 4, p@k train: 0.6886754701880752, p@k test: 0.16807051909892265\n",
      "epoch: 6, p@k train: 0.706842737094838, p@k test: 0.16376101860920664\n",
      "epoch: 8, p@k train: 0.7180472188875551, p@k test: 0.16190009794319296\n",
      "epoch: 10, p@k train: 0.7290116046418568, p@k test: 0.1622918707149853\n",
      "epoch: 12, p@k train: 0.7322128851540616, p@k test: 0.16258570029382957\n",
      "epoch: 14, p@k train: 0.735734293717487, p@k test: 0.16278158667972575\n",
      "epoch: 16, p@k train: 0.7386154461784714, p@k test: 0.1604309500489716\n",
      "epoch: 18, p@k train: 0.742296918767507, p@k test: 0.16121449559255635\n",
      "epoch: 20, p@k train: 0.7453381352541016, p@k test: 0.15964740450538686\n",
      "epoch: 22, p@k train: 0.7474989995998399, p@k test: 0.16052889324191968\n",
      "epoch: 24, p@k train: 0.7482993197278911, p@k test: 0.16043095004897162\n",
      "epoch: 26, p@k train: 0.748219287715086, p@k test: 0.15994123408423117\n",
      "epoch: 28, p@k train: 0.7485394157663064, p@k test: 0.16043095004897162\n",
      "epoch: 30, p@k train: 0.7490196078431373, p@k test: 0.15974534769833498\n",
      "epoch: 32, p@k train: 0.7486194477791116, p@k test: 0.15964740450538686\n",
      "epoch: 34, p@k train: 0.7489395758303321, p@k test: 0.1592556317335945\n",
      "epoch: 36, p@k train: 0.7490996398559424, p@k test: 0.15886385896180216\n",
      "epoch: 38, p@k train: 0.7489395758303321, p@k test: 0.15896180215475025\n"
     ]
    }
   ],
   "source": [
    "model = AlternatingLeastSquares(factors=100,\n",
    "                                #количество k или размерность который мы подбираем для матриц при разложении ,\n",
    "                                # лучший параметр при разложении по версии статьи из вебинара 300-400\n",
    "                                regularization=0.001,  # можно подобрать лучший\n",
    "                                iterations=15,  # можно подобрать лучший\n",
    "                                calculate_training_loss=True,\n",
    "                                num_threads=4)  # 4 потока\n",
    "model1, train_precision1, test_precision1 = learning_curve(model, csr_matrix(user_item_matrix).T.tocsr(),\n",
    "                                                           result_train, result, epochs=range(2, 40, 2), k=5)"
   ]
  },
  {
   "cell_type": "code",
   "execution_count": 19,
   "metadata": {},
   "outputs": [],
   "source": [
    "def grid_search_learning_curve(base_model, train, train_actual, test_actual, param_grid,\n",
    "                               user_index=None, patk=5, epochs=range(2, 10, 2)):\n",
    "    \"\"\"\n",
    "    \"Inspired\" (stolen) from sklearn gridsearch\n",
    "    https://github.com/scikit-learn/scikit-learn/blob/master/sklearn/model_selection/_search.py\n",
    "    \"\"\"\n",
    "    curves = []\n",
    "    keys, values = zip(*param_grid.items())\n",
    "    for v in itertools.product(*values):\n",
    "        params = dict(zip(keys, v))\n",
    "        this_model = copy.deepcopy(base_model)\n",
    "        print_line = []\n",
    "        for k, v in params.items():\n",
    "            setattr(this_model, k, v)\n",
    "            print_line.append((k, v))\n",
    "\n",
    "        print(' | '.join('{}: {}'.format(k, v) for (k, v) in print_line))\n",
    "        _, train_patk, test_patk = learning_curve(this_model, train, train_actual, test_actual, epochs, k=patk)\n",
    "        curves.append({'params': params,\n",
    "                       'patk': {'train': train_patk, 'test': test_patk}})\n",
    "    return curves"
   ]
  },
  {
   "cell_type": "markdown",
   "source": [
    "### Поиск гипер параметров по сетке"
   ],
   "metadata": {
    "collapsed": false,
    "pycharm": {
     "name": "#%% md\n"
    }
   }
  },
  {
   "cell_type": "code",
   "execution_count": 20,
   "metadata": {},
   "outputs": [],
   "source": [
    "param_grid = {'num_factors': [80, 120],\n",
    "              'regularization': [ 1e-1, 1e1, 1e2],\n",
    "              'alpha': [ 100, 500, 1000]}\n",
    "base_model = AlternatingLeastSquares()"
   ]
  },
  {
   "cell_type": "code",
   "execution_count": 21,
   "metadata": {},
   "outputs": [
    {
     "name": "stdout",
     "output_type": "stream",
     "text": [
      "num_factors: 80 | regularization: 0.1 | alpha: 100\n",
      "epoch: 2, p@k train: 0.6769107643057223, p@k test: 0.19255631733594517\n",
      "epoch: 4, p@k train: 0.6872348939575831, p@k test: 0.1762977473065622\n",
      "epoch: 6, p@k train: 0.697719087635054, p@k test: 0.16993143976493633\n",
      "epoch: 8, p@k train: 0.7052420968387354, p@k test: 0.169539666993144\n",
      "num_factors: 80 | regularization: 0.1 | alpha: 500\n",
      "epoch: 2, p@k train: 0.6650660264105642, p@k test: 0.19745347698334967\n",
      "epoch: 4, p@k train: 0.6849139655862344, p@k test: 0.17962781586679727\n",
      "epoch: 6, p@k train: 0.6979591836734693, p@k test: 0.17277179236043094\n",
      "epoch: 8, p@k train: 0.7078831532613046, p@k test: 0.16865817825661114\n",
      "num_factors: 80 | regularization: 0.1 | alpha: 1000\n",
      "epoch: 2, p@k train: 0.6694677871148459, p@k test: 0.19804113614103824\n",
      "epoch: 4, p@k train: 0.6889955982392957, p@k test: 0.1805093046033301\n",
      "epoch: 6, p@k train: 0.6994797919167667, p@k test: 0.17286973555337903\n",
      "epoch: 8, p@k train: 0.7110044017607042, p@k test: 0.167384916748286\n",
      "num_factors: 80 | regularization: 10.0 | alpha: 100\n",
      "epoch: 2, p@k train: 0.7154861944777912, p@k test: 0.2359451518119491\n",
      "epoch: 4, p@k train: 0.7282112845138055, p@k test: 0.2060724779627816\n",
      "epoch: 6, p@k train: 0.7333333333333333, p@k test: 0.19490695396669933\n",
      "epoch: 8, p@k train: 0.7339735894357743, p@k test: 0.19089128305582764\n",
      "num_factors: 80 | regularization: 10.0 | alpha: 500\n",
      "epoch: 2, p@k train: 0.7140456182472988, p@k test: 0.23849167482859945\n",
      "epoch: 4, p@k train: 0.7294917967186875, p@k test: 0.19999999999999998\n",
      "epoch: 6, p@k train: 0.7330132052821128, p@k test: 0.18961802154750246\n",
      "epoch: 8, p@k train: 0.7330132052821128, p@k test: 0.1841332027424094\n",
      "num_factors: 80 | regularization: 10.0 | alpha: 1000\n",
      "epoch: 2, p@k train: 0.7210084033613445, p@k test: 0.22957884427032324\n",
      "epoch: 4, p@k train: 0.7274909963985594, p@k test: 0.20254652301665035\n",
      "epoch: 6, p@k train: 0.7279711884753901, p@k test: 0.1932419196865818\n",
      "epoch: 8, p@k train: 0.7282913165266105, p@k test: 0.18648383937316357\n",
      "num_factors: 80 | regularization: 100.0 | alpha: 100\n",
      "epoch: 2, p@k train: 0.4987595038015206, p@k test: 0.1796278158667973\n",
      "epoch: 4, p@k train: 0.5091636654661865, p@k test: 0.18285994123408425\n",
      "epoch: 6, p@k train: 0.5251700680272108, p@k test: 0.19000979431929482\n",
      "epoch: 8, p@k train: 0.5303721488595439, p@k test: 0.1929480901077375\n",
      "num_factors: 80 | regularization: 100.0 | alpha: 500\n",
      "epoch: 2, p@k train: 0.4990796318527411, p@k test: 0.18060724779627818\n",
      "epoch: 4, p@k train: 0.5081232492997199, p@k test: 0.18295788442703234\n",
      "epoch: 6, p@k train: 0.522689075630252, p@k test: 0.1873653281096964\n",
      "epoch: 8, p@k train: 0.5297318927571029, p@k test: 0.19147894221351616\n",
      "num_factors: 80 | regularization: 100.0 | alpha: 1000\n",
      "epoch: 2, p@k train: 0.5059623849539816, p@k test: 0.17678746327130265\n",
      "epoch: 4, p@k train: 0.5061224489795918, p@k test: 0.18011753183153775\n",
      "epoch: 6, p@k train: 0.5165266106442576, p@k test: 0.1843290891283056\n",
      "epoch: 8, p@k train: 0.5222889155662264, p@k test: 0.18775710088148873\n",
      "num_factors: 120 | regularization: 0.1 | alpha: 100\n",
      "epoch: 2, p@k train: 0.6757903161264507, p@k test: 0.19833496571988246\n",
      "epoch: 4, p@k train: 0.6844337735094037, p@k test: 0.17982370225269342\n",
      "epoch: 6, p@k train: 0.6964385754301721, p@k test: 0.1713026444662096\n",
      "epoch: 8, p@k train: 0.7046818727490997, p@k test: 0.1683643486777669\n",
      "num_factors: 120 | regularization: 0.1 | alpha: 500\n",
      "epoch: 2, p@k train: 0.6691476590636254, p@k test: 0.1981390793339863\n",
      "epoch: 4, p@k train: 0.6823529411764706, p@k test: 0.17864838393731639\n",
      "epoch: 6, p@k train: 0.6932372949179673, p@k test: 0.17610186092066601\n",
      "epoch: 8, p@k train: 0.702921168467387, p@k test: 0.1734573947110676\n",
      "num_factors: 120 | regularization: 0.1 | alpha: 1000\n",
      "epoch: 2, p@k train: 0.673469387755102, p@k test: 0.19833496571988246\n",
      "epoch: 4, p@k train: 0.6894757903161265, p@k test: 0.18041136141038197\n",
      "epoch: 6, p@k train: 0.702921168467387, p@k test: 0.17355533790401567\n",
      "epoch: 8, p@k train: 0.7106042416966786, p@k test: 0.16875612144955926\n",
      "num_factors: 120 | regularization: 10.0 | alpha: 100\n",
      "epoch: 2, p@k train: 0.7264505802320927, p@k test: 0.2356513222331048\n",
      "epoch: 4, p@k train: 0.7401360544217687, p@k test: 0.20489715964740451\n",
      "epoch: 6, p@k train: 0.7387755102040816, p@k test: 0.19471106758080314\n",
      "epoch: 8, p@k train: 0.7382152861144458, p@k test: 0.1892262487757101\n",
      "num_factors: 120 | regularization: 10.0 | alpha: 500\n",
      "epoch: 2, p@k train: 0.7174069627851141, p@k test: 0.23281096963761022\n",
      "epoch: 4, p@k train: 0.7279711884753901, p@k test: 0.20470127326150836\n",
      "epoch: 6, p@k train: 0.7271708683473389, p@k test: 0.19539666993143978\n",
      "epoch: 8, p@k train: 0.7290116046418567, p@k test: 0.18707149853085214\n",
      "num_factors: 120 | regularization: 10.0 | alpha: 1000\n",
      "epoch: 2, p@k train: 0.7115646258503402, p@k test: 0.24045053868756122\n",
      "epoch: 4, p@k train: 0.723889555822329, p@k test: 0.2013712047012733\n",
      "epoch: 6, p@k train: 0.7274909963985594, p@k test: 0.19059745347698337\n",
      "epoch: 8, p@k train: 0.7310124049619847, p@k test: 0.18756121449559254\n",
      "num_factors: 120 | regularization: 100.0 | alpha: 100\n",
      "epoch: 2, p@k train: 0.49843937575030006, p@k test: 0.17982370225269345\n",
      "epoch: 4, p@k train: 0.5116446578631453, p@k test: 0.18560235063663075\n",
      "epoch: 6, p@k train: 0.5257302921168467, p@k test: 0.18854064642507345\n",
      "epoch: 8, p@k train: 0.5311724689875951, p@k test: 0.1929480901077375\n",
      "num_factors: 120 | regularization: 100.0 | alpha: 500\n",
      "epoch: 2, p@k train: 0.49787915166066427, p@k test: 0.18139079333986288\n",
      "epoch: 4, p@k train: 0.5178871548619448, p@k test: 0.18795298726738496\n",
      "epoch: 6, p@k train: 0.5287715086034414, p@k test: 0.1903036238981391\n",
      "epoch: 8, p@k train: 0.5349339735894357, p@k test: 0.1952007835455436\n",
      "num_factors: 120 | regularization: 100.0 | alpha: 1000\n",
      "epoch: 2, p@k train: 0.4986794717887155, p@k test: 0.18001958863858963\n",
      "epoch: 4, p@k train: 0.5078831532613045, p@k test: 0.1823702252693438\n",
      "epoch: 6, p@k train: 0.5238095238095238, p@k test: 0.18981390793339864\n",
      "epoch: 8, p@k train: 0.529811924769908, p@k test: 0.19167482859941234\n"
     ]
    }
   ],
   "source": [
    "curves = grid_search_learning_curve(base_model, csr_matrix(user_item_matrix).T.tocsr(),\n",
    "                                    result_train, result,\n",
    "                                    param_grid,\n",
    "                                    user_index=None,\n",
    "                                    patk=5)"
   ]
  },
  {
   "cell_type": "code",
   "execution_count": 22,
   "metadata": {},
   "outputs": [],
   "source": [
    "best_curves = sorted(curves, key=lambda x: max(x['patk']['test']), reverse=True)"
   ]
  },
  {
   "cell_type": "markdown",
   "source": [
    "#### Лучшее решение"
   ],
   "metadata": {
    "collapsed": false,
    "pycharm": {
     "name": "#%% md\n"
    }
   }
  },
  {
   "cell_type": "code",
   "execution_count": 23,
   "metadata": {},
   "outputs": [
    {
     "name": "stdout",
     "output_type": "stream",
     "text": [
      "{'num_factors': 120, 'regularization': 10.0, 'alpha': 1000}\n",
      "0.24045053868756122\n",
      "Epoch: 2\n"
     ]
    }
   ],
   "source": [
    "print(best_curves[0]['params'])\n",
    "max_score = max(best_curves[0]['patk']['test'])\n",
    "print(max_score)\n",
    "iterations = range(2, 40, 2)[best_curves[0]['patk']['test'].index(max_score)]\n",
    "print('Epoch: {}'.format(iterations))"
   ]
  },
  {
   "cell_type": "code",
   "execution_count": 24,
   "metadata": {},
   "outputs": [
    {
     "data": {
      "text/plain": "[{'params': {'num_factors': 120, 'regularization': 10.0, 'alpha': 1000},\n  'patk': {'train': [0.7115646258503402,\n    0.723889555822329,\n    0.7274909963985594,\n    0.7310124049619847],\n   'test': [0.24045053868756122,\n    0.2013712047012733,\n    0.19059745347698337,\n    0.18756121449559254]}},\n {'params': {'num_factors': 80, 'regularization': 10.0, 'alpha': 500},\n  'patk': {'train': [0.7140456182472988,\n    0.7294917967186875,\n    0.7330132052821128,\n    0.7330132052821128],\n   'test': [0.23849167482859945,\n    0.19999999999999998,\n    0.18961802154750246,\n    0.1841332027424094]}},\n {'params': {'num_factors': 80, 'regularization': 10.0, 'alpha': 100},\n  'patk': {'train': [0.7154861944777912,\n    0.7282112845138055,\n    0.7333333333333333,\n    0.7339735894357743],\n   'test': [0.2359451518119491,\n    0.2060724779627816,\n    0.19490695396669933,\n    0.19089128305582764]}},\n {'params': {'num_factors': 120, 'regularization': 10.0, 'alpha': 100},\n  'patk': {'train': [0.7264505802320927,\n    0.7401360544217687,\n    0.7387755102040816,\n    0.7382152861144458],\n   'test': [0.2356513222331048,\n    0.20489715964740451,\n    0.19471106758080314,\n    0.1892262487757101]}},\n {'params': {'num_factors': 120, 'regularization': 10.0, 'alpha': 500},\n  'patk': {'train': [0.7174069627851141,\n    0.7279711884753901,\n    0.7271708683473389,\n    0.7290116046418567],\n   'test': [0.23281096963761022,\n    0.20470127326150836,\n    0.19539666993143978,\n    0.18707149853085214]}},\n {'params': {'num_factors': 80, 'regularization': 10.0, 'alpha': 1000},\n  'patk': {'train': [0.7210084033613445,\n    0.7274909963985594,\n    0.7279711884753901,\n    0.7282913165266105],\n   'test': [0.22957884427032324,\n    0.20254652301665035,\n    0.1932419196865818,\n    0.18648383937316357]}},\n {'params': {'num_factors': 120, 'regularization': 0.1, 'alpha': 100},\n  'patk': {'train': [0.6757903161264507,\n    0.6844337735094037,\n    0.6964385754301721,\n    0.7046818727490997],\n   'test': [0.19833496571988246,\n    0.17982370225269342,\n    0.1713026444662096,\n    0.1683643486777669]}},\n {'params': {'num_factors': 120, 'regularization': 0.1, 'alpha': 1000},\n  'patk': {'train': [0.673469387755102,\n    0.6894757903161265,\n    0.702921168467387,\n    0.7106042416966786],\n   'test': [0.19833496571988246,\n    0.18041136141038197,\n    0.17355533790401567,\n    0.16875612144955926]}},\n {'params': {'num_factors': 120, 'regularization': 0.1, 'alpha': 500},\n  'patk': {'train': [0.6691476590636254,\n    0.6823529411764706,\n    0.6932372949179673,\n    0.702921168467387],\n   'test': [0.1981390793339863,\n    0.17864838393731639,\n    0.17610186092066601,\n    0.1734573947110676]}},\n {'params': {'num_factors': 80, 'regularization': 0.1, 'alpha': 1000},\n  'patk': {'train': [0.6694677871148459,\n    0.6889955982392957,\n    0.6994797919167667,\n    0.7110044017607042],\n   'test': [0.19804113614103824,\n    0.1805093046033301,\n    0.17286973555337903,\n    0.167384916748286]}},\n {'params': {'num_factors': 80, 'regularization': 0.1, 'alpha': 500},\n  'patk': {'train': [0.6650660264105642,\n    0.6849139655862344,\n    0.6979591836734693,\n    0.7078831532613046],\n   'test': [0.19745347698334967,\n    0.17962781586679727,\n    0.17277179236043094,\n    0.16865817825661114]}},\n {'params': {'num_factors': 120, 'regularization': 100.0, 'alpha': 500},\n  'patk': {'train': [0.49787915166066427,\n    0.5178871548619448,\n    0.5287715086034414,\n    0.5349339735894357],\n   'test': [0.18139079333986288,\n    0.18795298726738496,\n    0.1903036238981391,\n    0.1952007835455436]}},\n {'params': {'num_factors': 80, 'regularization': 100.0, 'alpha': 100},\n  'patk': {'train': [0.4987595038015206,\n    0.5091636654661865,\n    0.5251700680272108,\n    0.5303721488595439],\n   'test': [0.1796278158667973,\n    0.18285994123408425,\n    0.19000979431929482,\n    0.1929480901077375]}},\n {'params': {'num_factors': 120, 'regularization': 100.0, 'alpha': 100},\n  'patk': {'train': [0.49843937575030006,\n    0.5116446578631453,\n    0.5257302921168467,\n    0.5311724689875951],\n   'test': [0.17982370225269345,\n    0.18560235063663075,\n    0.18854064642507345,\n    0.1929480901077375]}},\n {'params': {'num_factors': 80, 'regularization': 0.1, 'alpha': 100},\n  'patk': {'train': [0.6769107643057223,\n    0.6872348939575831,\n    0.697719087635054,\n    0.7052420968387354],\n   'test': [0.19255631733594517,\n    0.1762977473065622,\n    0.16993143976493633,\n    0.169539666993144]}},\n {'params': {'num_factors': 120, 'regularization': 100.0, 'alpha': 1000},\n  'patk': {'train': [0.4986794717887155,\n    0.5078831532613045,\n    0.5238095238095238,\n    0.529811924769908],\n   'test': [0.18001958863858963,\n    0.1823702252693438,\n    0.18981390793339864,\n    0.19167482859941234]}},\n {'params': {'num_factors': 80, 'regularization': 100.0, 'alpha': 500},\n  'patk': {'train': [0.4990796318527411,\n    0.5081232492997199,\n    0.522689075630252,\n    0.5297318927571029],\n   'test': [0.18060724779627818,\n    0.18295788442703234,\n    0.1873653281096964,\n    0.19147894221351616]}},\n {'params': {'num_factors': 80, 'regularization': 100.0, 'alpha': 1000},\n  'patk': {'train': [0.5059623849539816,\n    0.5061224489795918,\n    0.5165266106442576,\n    0.5222889155662264],\n   'test': [0.17678746327130265,\n    0.18011753183153775,\n    0.1843290891283056,\n    0.18775710088148873]}}]"
     },
     "execution_count": 24,
     "metadata": {},
     "output_type": "execute_result"
    }
   ],
   "source": [
    "best_curves"
   ]
  },
  {
   "cell_type": "markdown",
   "source": [
    "### Построение графиков, выводы"
   ],
   "metadata": {
    "collapsed": false,
    "pycharm": {
     "name": "#%% md\n"
    }
   }
  },
  {
   "cell_type": "code",
   "execution_count": 25,
   "metadata": {},
   "outputs": [
    {
     "data": {
      "text/plain": "<Figure size 432x288 with 1 Axes>",
      "image/png": "[encoded data removed]"
     },
     "metadata": {},
     "output_type": "display_data"
    }
   ],
   "source": [
    "import seaborn as sns\n",
    "\n",
    "sns.set_style('white')\n",
    "fig, ax = plt.subplots()\n",
    "sns.despine(fig);\n",
    "plt.plot([2, 4, 6, 8], best_curves[0]['patk']['test']);\n",
    "plt.xlabel('Epochs', fontsize=24);\n",
    "plt.ylabel('Test p@k', fontsize=24);\n",
    "plt.xticks(fontsize=18);\n",
    "plt.yticks(fontsize=18);\n",
    "plt.title('Best learning curve', fontsize=30);"
   ]
  },
  {
   "cell_type": "markdown",
   "metadata": {},
   "source": [
    "По результатам выявлены лучшие параметры и построен график зависимости p@k от количества эпох\n",
    "{'num_factors': 120, 'regularization': 10.0, 'alpha': 1000}\n",
    "0.24045053868756122\n",
    "Epoch: 2"
   ]
  }
 ],
 "metadata": {
  "colab": {
   "name": "webinar_3.ipynb",
   "provenance": [],
   "toc_visible": true
  },
  "kernelspec": {
   "display_name": "Python 3",
   "language": "python",
   "name": "python3"
  },
  "language_info": {
   "codemirror_mode": {
    "name": "ipython",
    "version": 3
   },
   "file_extension": ".py",
   "mimetype": "text/x-python",
   "name": "python",
   "nbconvert_exporter": "python",
   "pygments_lexer": "ipython3",
   "version": "3.8.5"
  }
 },
 "nbformat": 4,
 "nbformat_minor": 1
}