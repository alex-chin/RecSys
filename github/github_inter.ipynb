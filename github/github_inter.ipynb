{
 "cells": [
  {
   "cell_type": "code",
   "execution_count": 8,
   "metadata": {
    "collapsed": true
   },
   "outputs": [
    {
     "name": "stdout",
     "output_type": "stream",
     "text": [
      "cd caliber\n",
      "git bundle create ..\\all\\caliber.bundle --all\n",
      "cd ..\n",
      "cd data_mining_20_04_2021\n",
      "git bundle create ..\\all\\data_mining_20_04_2021.bundle --all\n",
      "cd ..\n",
      "cd gb_business\n",
      "git bundle create ..\\all\\gb_business.bundle --all\n",
      "cd ..\n",
      "cd gb_business_class\n",
      "git bundle create ..\\all\\gb_business_class.bundle --all\n",
      "cd ..\n",
      "cd gb_data_analysis\n",
      "git bundle create ..\\all\\gb_data_analysis.bundle --all\n",
      "cd ..\n",
      "cd gb_data_collection_py\n",
      "git bundle create ..\\all\\gb_data_collection_py.bundle --all\n",
      "cd ..\n",
      "cd GB_HI_MATH\n",
      "git bundle create ..\\all\\GB_HI_MATH.bundle --all\n",
      "cd ..\n",
      "cd GB_LIBS_DS\n",
      "git bundle create ..\\all\\GB_LIBS_DS.bundle --all\n",
      "cd ..\n",
      "cd GB_LIBS_DS2\n",
      "git bundle create ..\\all\\GB_LIBS_DS2.bundle --all\n",
      "cd ..\n",
      "cd GB_LINEAR_ALGEBRA\n",
      "git bundle create ..\\all\\GB_LINEAR_ALGEBRA.bundle --all\n",
      "cd ..\n",
      "cd GB_linux\n",
      "git bundle create ..\\all\\GB_linux.bundle --all\n",
      "cd ..\n",
      "cd gb_megafone1\n",
      "git bundle create ..\\all\\gb_megafone1.bundle --all\n",
      "cd ..\n",
      "cd GB_mysql\n",
      "git bundle create ..\\all\\GB_mysql.bundle --all\n",
      "cd ..\n",
      "cd gb_prob_stat\n",
      "git bundle create ..\\all\\gb_prob_stat.bundle --all\n",
      "cd ..\n",
      "cd GB_Python_algorithms\n",
      "git bundle create ..\\all\\GB_Python_algorithms.bundle --all\n",
      "cd ..\n",
      "cd git-project\n",
      "git bundle create ..\\all\\git-project.bundle --all\n",
      "cd ..\n",
      "cd mapdroid\n",
      "git bundle create ..\\all\\mapdroid.bundle --all\n",
      "cd ..\n",
      "cd projects\n",
      "git bundle create ..\\all\\projects.bundle --all\n",
      "cd ..\n",
      "cd project_gb2\n",
      "git bundle create ..\\all\\project_gb2.bundle --all\n",
      "cd ..\n",
      "cd python_13_10_2020\n",
      "git bundle create ..\\all\\python_13_10_2020.bundle --all\n",
      "cd ..\n",
      "cd python_basic_13_10_2020\n",
      "git bundle create ..\\all\\python_basic_13_10_2020.bundle --all\n",
      "cd ..\n",
      "cd RecSys\n",
      "git bundle create ..\\all\\RecSys.bundle --all\n",
      "cd ..\n",
      "cd st.base_ml\n",
      "git bundle create ..\\all\\st.base_ml.bundle --all\n",
      "cd ..\n"
     ]
    }
   ],
   "source": [
    "import base64\n",
    "from github import Github\n",
    "from pprint import pprint\n",
    "# Github username\n",
    "username = \"alex-chin\"\n",
    "# pygithub object\n",
    "g = Github()\n",
    "# get that user by username\n",
    "user = g.get_user(username)\n",
    "for repo in user.get_repos():\n",
    "    # print( f'git clone git@github.com:{repo.full_name}.git')\n",
    "    print(f'cd {repo.name}')\n",
    "    print( f'git bundle create ..\\\\all\\\\{repo.name}.bundle --all')\n",
    "    print('cd ..')"
   ]
  },
  {
   "cell_type": "code",
   "execution_count": 9,
   "outputs": [],
   "source": [
    "import os"
   ],
   "metadata": {
    "collapsed": false,
    "pycharm": {
     "name": "#%%\n"
    }
   }
  },
  {
   "cell_type": "code",
   "execution_count": 13,
   "outputs": [
    {
     "name": "stdout",
     "output_type": "stream",
     "text": [
      "cd Caliber\n",
      "git bundle create ..\\all\\Caliber.bundle --all\n",
      "cd ..\n",
      "cd coda_template\n",
      "git bundle create ..\\all\\coda_template.bundle --all\n",
      "cd ..\n",
      "cd Docs2_head\n",
      "git bundle create ..\\all\\Docs2_head.bundle --all\n",
      "cd ..\n",
      "cd GeekBrAI2020\n",
      "git bundle create ..\\all\\GeekBrAI2020.bundle --all\n",
      "cd ..\n",
      "cd Grid17ng\n",
      "git bundle create ..\\all\\Grid17ng.bundle --all\n",
      "cd ..\n",
      "cd hackatone21\n",
      "git bundle create ..\\all\\hackatone21.bundle --all\n",
      "cd ..\n",
      "cd mapdroid\n",
      "git bundle create ..\\all\\mapdroid.bundle --all\n",
      "cd ..\n",
      "cd midprice21\n",
      "git bundle create ..\\all\\midprice21.bundle --all\n",
      "cd ..\n",
      "cd minis2\n",
      "git bundle create ..\\all\\minis2.bundle --all\n",
      "cd ..\n",
      "cd mitscute\n",
      "git bundle create ..\\all\\mitscute.bundle --all\n",
      "cd ..\n",
      "cd Portfolio\n",
      "git bundle create ..\\all\\Portfolio.bundle --all\n",
      "cd ..\n",
      "cd Shift\n",
      "git bundle create ..\\all\\Shift.bundle --all\n",
      "cd ..\n",
      "cd sok-exits\n",
      "git bundle create ..\\all\\sok-exits.bundle --all\n",
      "cd ..\n",
      "cd sok-mp\n",
      "git bundle create ..\\all\\sok-mp.bundle --all\n",
      "cd ..\n",
      "cd sok-occ\n",
      "git bundle create ..\\all\\sok-occ.bundle --all\n",
      "cd ..\n",
      "cd sok-vc\n",
      "git bundle create ..\\all\\sok-vc.bundle --all\n",
      "cd ..\n",
      "cd TravelXAF\n",
      "git bundle create ..\\all\\TravelXAF.bundle --all\n",
      "cd ..\n",
      "cd Vue_exam\n",
      "git bundle create ..\\all\\Vue_exam.bundle --all\n",
      "cd ..\n",
      "cd webster\n",
      "git bundle create ..\\all\\webster.bundle --all\n",
      "cd ..\n",
      "cd WFS22_contractors\n",
      "git bundle create ..\\all\\WFS22_contractors.bundle --all\n",
      "cd ..\n"
     ]
    }
   ],
   "source": [
    "os.chdir('c:\\\\azure_git2702')\n",
    "list_dir=os.listdir()\n",
    "for dir in list_dir:\n",
    "    print(f'cd {dir}')\n",
    "    print( f'git bundle create ..\\\\all\\\\{dir}.bundle --all')\n",
    "    print('cd ..')"
   ],
   "metadata": {
    "collapsed": false,
    "pycharm": {
     "name": "#%%\n"
    }
   }
  },
  {
   "cell_type": "code",
   "execution_count": null,
   "outputs": [],
   "source": [],
   "metadata": {
    "collapsed": false,
    "pycharm": {
     "name": "#%%\n"
    }
   }
  }
 ],
 "metadata": {
  "kernelspec": {
   "display_name": "Python 3",
   "language": "python",
   "name": "python3"
  },
  "language_info": {
   "codemirror_mode": {
    "name": "ipython",
    "version": 2
   },
   "file_extension": ".py",
   "mimetype": "text/x-python",
   "name": "python",
   "nbconvert_exporter": "python",
   "pygments_lexer": "ipython2",
   "version": "2.7.6"
  }
 },
 "nbformat": 4,
 "nbformat_minor": 0
}